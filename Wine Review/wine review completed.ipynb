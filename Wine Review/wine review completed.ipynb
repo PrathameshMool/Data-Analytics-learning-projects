{
 "cells": [
  {
   "cell_type": "code",
   "execution_count": 2,
   "id": "f342759a",
   "metadata": {},
   "outputs": [],
   "source": [
    "import numpy as np\n",
    "import pandas as pd"
   ]
  },
  {
   "cell_type": "markdown",
   "id": "af41f393",
   "metadata": {},
   "source": [
    "Q1 - Look at an overview of data"
   ]
  },
  {
   "cell_type": "code",
   "execution_count": 3,
   "id": "fae342c4",
   "metadata": {},
   "outputs": [
    {
     "name": "stdout",
     "output_type": "stream",
     "text": [
      "    country                                        description  \\\n",
      "0     Italy  Aromas include tropical fruit, broom, brimston...   \n",
      "1  Portugal  This is ripe and fruity, a wine that is smooth...   \n",
      "2        US  Tart and snappy, the flavors of lime flesh and...   \n",
      "3        US  Pineapple rind, lemon pith and orange blossom ...   \n",
      "4        US  Much like the regular bottling from 2012, this...   \n",
      "5     Spain  Blackberry and raspberry aromas show a typical...   \n",
      "6     Italy  Here's a bright, informal red that opens with ...   \n",
      "7    France  This dry and restrained wine offers spice in p...   \n",
      "8   Germany  Savory dried thyme notes accent sunnier flavor...   \n",
      "9    France  This has great depth of flavor with its fresh ...   \n",
      "\n",
      "                          designation  points  price           province  \\\n",
      "0                        Vulkà Bianco      87    NaN  Sicily & Sardinia   \n",
      "1                            Avidagos      87   15.0              Douro   \n",
      "2                                 NaN      87   14.0             Oregon   \n",
      "3                Reserve Late Harvest      87   13.0           Michigan   \n",
      "4  Vintner's Reserve Wild Child Block      87   65.0             Oregon   \n",
      "5                        Ars In Vitro      87   15.0     Northern Spain   \n",
      "6                             Belsito      87   16.0  Sicily & Sardinia   \n",
      "7                                 NaN      87   24.0             Alsace   \n",
      "8                               Shine      87   12.0        Rheinhessen   \n",
      "9                         Les Natures      87   27.0             Alsace   \n",
      "\n",
      "              region_1           region_2         taster_name  \\\n",
      "0                 Etna                NaN       Kerin O’Keefe   \n",
      "1                  NaN                NaN          Roger Voss   \n",
      "2    Willamette Valley  Willamette Valley        Paul Gregutt   \n",
      "3  Lake Michigan Shore                NaN  Alexander Peartree   \n",
      "4    Willamette Valley  Willamette Valley        Paul Gregutt   \n",
      "5              Navarra                NaN   Michael Schachner   \n",
      "6             Vittoria                NaN       Kerin O’Keefe   \n",
      "7               Alsace                NaN          Roger Voss   \n",
      "8                  NaN                NaN  Anna Lee C. Iijima   \n",
      "9               Alsace                NaN          Roger Voss   \n",
      "\n",
      "  taster_twitter_handle                                              title  \\\n",
      "0          @kerinokeefe                  Nicosia 2013 Vulkà Bianco  (Etna)   \n",
      "1            @vossroger      Quinta dos Avidagos 2011 Avidagos Red (Douro)   \n",
      "2           @paulgwine       Rainstorm 2013 Pinot Gris (Willamette Valley)   \n",
      "3                   NaN  St. Julian 2013 Reserve Late Harvest Riesling ...   \n",
      "4           @paulgwine   Sweet Cheeks 2012 Vintner's Reserve Wild Child...   \n",
      "5           @wineschach  Tandem 2011 Ars In Vitro Tempranillo-Merlot (N...   \n",
      "6          @kerinokeefe   Terre di Giurfo 2013 Belsito Frappato (Vittoria)   \n",
      "7            @vossroger              Trimbach 2012 Gewurztraminer (Alsace)   \n",
      "8                   NaN  Heinz Eifel 2013 Shine Gewürztraminer (Rheinhe...   \n",
      "9            @vossroger  Jean-Baptiste Adam 2012 Les Natures Pinot Gris...   \n",
      "\n",
      "              variety               winery  \n",
      "0         White Blend              Nicosia  \n",
      "1      Portuguese Red  Quinta dos Avidagos  \n",
      "2          Pinot Gris            Rainstorm  \n",
      "3            Riesling           St. Julian  \n",
      "4          Pinot Noir         Sweet Cheeks  \n",
      "5  Tempranillo-Merlot               Tandem  \n",
      "6            Frappato      Terre di Giurfo  \n",
      "7      Gewürztraminer             Trimbach  \n",
      "8      Gewürztraminer          Heinz Eifel  \n",
      "9          Pinot Gris   Jean-Baptiste Adam  \n"
     ]
    }
   ],
   "source": [
    "reviews = pd.read_csv(r\"F:\\stige projects\\pandas stige\\wine\\winemag-data-130k-v2.csv\", index_col =0)\n",
    "print(reviews.head(10))"
   ]
  },
  {
   "cell_type": "markdown",
   "id": "563b2903",
   "metadata": {},
   "source": [
    "Q2 - Select the description column from reviews and assign the result to the variable desc ."
   ]
  },
  {
   "cell_type": "code",
   "execution_count": 4,
   "id": "76a580d5",
   "metadata": {},
   "outputs": [
    {
     "data": {
      "text/plain": [
       "0         Aromas include tropical fruit, broom, brimston...\n",
       "1         This is ripe and fruity, a wine that is smooth...\n",
       "2         Tart and snappy, the flavors of lime flesh and...\n",
       "3         Pineapple rind, lemon pith and orange blossom ...\n",
       "4         Much like the regular bottling from 2012, this...\n",
       "                                ...                        \n",
       "129966    Notes of honeysuckle and cantaloupe sweeten th...\n",
       "129967    Citation is given as much as a decade of bottl...\n",
       "129968    Well-drained gravel soil gives this wine its c...\n",
       "129969    A dry style of Pinot Gris, this is crisp with ...\n",
       "129970    Big, rich and off-dry, this is powered by inte...\n",
       "Name: description, Length: 129971, dtype: object"
      ]
     },
     "execution_count": 4,
     "metadata": {},
     "output_type": "execute_result"
    }
   ],
   "source": [
    "desc = reviews['description']\n",
    "desc"
   ]
  },
  {
   "cell_type": "markdown",
   "id": "26eb5a72",
   "metadata": {},
   "source": [
    "Q3 - Select the first value from the description column of reviews , assigning it to variable\n",
    "first_description ."
   ]
  },
  {
   "cell_type": "code",
   "execution_count": 5,
   "id": "d6b6854a",
   "metadata": {},
   "outputs": [
    {
     "data": {
      "text/plain": [
       "\"Aromas include tropical fruit, broom, brimstone and dried herb. The palate isn't overly expressive, offering unripened apple, citrus and dried sage alongside brisk acidity.\""
      ]
     },
     "execution_count": 5,
     "metadata": {},
     "output_type": "execute_result"
    }
   ],
   "source": [
    "first_description = desc[0]\n",
    "first_description"
   ]
  },
  {
   "cell_type": "markdown",
   "id": "17cd29f1",
   "metadata": {},
   "source": [
    "Select the first row of data (the first record) from reviews , assigning it to the variable first_row"
   ]
  },
  {
   "cell_type": "code",
   "execution_count": 6,
   "id": "49a922ee",
   "metadata": {},
   "outputs": [
    {
     "data": {
      "text/html": [
       "<div>\n",
       "<style scoped>\n",
       "    .dataframe tbody tr th:only-of-type {\n",
       "        vertical-align: middle;\n",
       "    }\n",
       "\n",
       "    .dataframe tbody tr th {\n",
       "        vertical-align: top;\n",
       "    }\n",
       "\n",
       "    .dataframe thead th {\n",
       "        text-align: right;\n",
       "    }\n",
       "</style>\n",
       "<table border=\"1\" class=\"dataframe\">\n",
       "  <thead>\n",
       "    <tr style=\"text-align: right;\">\n",
       "      <th></th>\n",
       "      <th>country</th>\n",
       "      <th>description</th>\n",
       "      <th>designation</th>\n",
       "      <th>points</th>\n",
       "      <th>price</th>\n",
       "      <th>province</th>\n",
       "      <th>region_1</th>\n",
       "      <th>region_2</th>\n",
       "      <th>taster_name</th>\n",
       "      <th>taster_twitter_handle</th>\n",
       "      <th>title</th>\n",
       "      <th>variety</th>\n",
       "      <th>winery</th>\n",
       "    </tr>\n",
       "  </thead>\n",
       "  <tbody>\n",
       "    <tr>\n",
       "      <th>0</th>\n",
       "      <td>Italy</td>\n",
       "      <td>Aromas include tropical fruit, broom, brimston...</td>\n",
       "      <td>Vulkà Bianco</td>\n",
       "      <td>87</td>\n",
       "      <td>NaN</td>\n",
       "      <td>Sicily &amp; Sardinia</td>\n",
       "      <td>Etna</td>\n",
       "      <td>NaN</td>\n",
       "      <td>Kerin O’Keefe</td>\n",
       "      <td>@kerinokeefe</td>\n",
       "      <td>Nicosia 2013 Vulkà Bianco  (Etna)</td>\n",
       "      <td>White Blend</td>\n",
       "      <td>Nicosia</td>\n",
       "    </tr>\n",
       "  </tbody>\n",
       "</table>\n",
       "</div>"
      ],
      "text/plain": [
       "  country                                        description   designation  \\\n",
       "0   Italy  Aromas include tropical fruit, broom, brimston...  Vulkà Bianco   \n",
       "\n",
       "   points  price           province region_1 region_2    taster_name  \\\n",
       "0      87    NaN  Sicily & Sardinia     Etna      NaN  Kerin O’Keefe   \n",
       "\n",
       "  taster_twitter_handle                              title      variety  \\\n",
       "0          @kerinokeefe  Nicosia 2013 Vulkà Bianco  (Etna)  White Blend   \n",
       "\n",
       "    winery  \n",
       "0  Nicosia  "
      ]
     },
     "execution_count": 6,
     "metadata": {},
     "output_type": "execute_result"
    }
   ],
   "source": [
    "first_row = reviews.loc[[0]]\n",
    "first_row"
   ]
  },
  {
   "cell_type": "markdown",
   "id": "950da863",
   "metadata": {},
   "source": [
    "Q5 - Select the first 10 values from the description column in reviews , assigning the result to variable\n",
    "first_descriptions"
   ]
  },
  {
   "cell_type": "code",
   "execution_count": 7,
   "id": "9c2dffb2",
   "metadata": {},
   "outputs": [
    {
     "name": "stdout",
     "output_type": "stream",
     "text": [
      "0    Aromas include tropical fruit, broom, brimston...\n",
      "1    This is ripe and fruity, a wine that is smooth...\n",
      "2    Tart and snappy, the flavors of lime flesh and...\n",
      "3    Pineapple rind, lemon pith and orange blossom ...\n",
      "4    Much like the regular bottling from 2012, this...\n",
      "5    Blackberry and raspberry aromas show a typical...\n",
      "6    Here's a bright, informal red that opens with ...\n",
      "7    This dry and restrained wine offers spice in p...\n",
      "8    Savory dried thyme notes accent sunnier flavor...\n",
      "9    This has great depth of flavor with its fresh ...\n",
      "Name: description, dtype: object\n"
     ]
    }
   ],
   "source": [
    "first_descriptions = desc.head(10)\n",
    "print(first_descriptions)"
   ]
  },
  {
   "cell_type": "markdown",
   "id": "7fbb04ec",
   "metadata": {},
   "source": [
    "Q6 - Select the records with index labels 1 , 2 , 3 , 5 , and 8 , assigning the result to the variable\n",
    "sample_reviews"
   ]
  },
  {
   "cell_type": "code",
   "execution_count": 9,
   "id": "4a384208",
   "metadata": {},
   "outputs": [
    {
     "name": "stdout",
     "output_type": "stream",
     "text": [
      "    country                                        description  \\\n",
      "1  Portugal  This is ripe and fruity, a wine that is smooth...   \n",
      "3        US  Pineapple rind, lemon pith and orange blossom ...   \n",
      "5     Spain  Blackberry and raspberry aromas show a typical...   \n",
      "8   Germany  Savory dried thyme notes accent sunnier flavor...   \n",
      "\n",
      "            designation  points  price        province             region_1  \\\n",
      "1              Avidagos      87   15.0           Douro                  NaN   \n",
      "3  Reserve Late Harvest      87   13.0        Michigan  Lake Michigan Shore   \n",
      "5          Ars In Vitro      87   15.0  Northern Spain              Navarra   \n",
      "8                 Shine      87   12.0     Rheinhessen                  NaN   \n",
      "\n",
      "  region_2         taster_name taster_twitter_handle  \\\n",
      "1      NaN          Roger Voss            @vossroger   \n",
      "3      NaN  Alexander Peartree                   NaN   \n",
      "5      NaN   Michael Schachner           @wineschach   \n",
      "8      NaN  Anna Lee C. Iijima                   NaN   \n",
      "\n",
      "                                               title             variety  \\\n",
      "1      Quinta dos Avidagos 2011 Avidagos Red (Douro)      Portuguese Red   \n",
      "3  St. Julian 2013 Reserve Late Harvest Riesling ...            Riesling   \n",
      "5  Tandem 2011 Ars In Vitro Tempranillo-Merlot (N...  Tempranillo-Merlot   \n",
      "8  Heinz Eifel 2013 Shine Gewürztraminer (Rheinhe...      Gewürztraminer   \n",
      "\n",
      "                winery  \n",
      "1  Quinta dos Avidagos  \n",
      "3           St. Julian  \n",
      "5               Tandem  \n",
      "8          Heinz Eifel  \n"
     ]
    }
   ],
   "source": [
    "sample_reviews = reviews.iloc[[1,3,5,8]]\n",
    "print(sample_reviews)"
   ]
  },
  {
   "cell_type": "markdown",
   "id": "180e31e9",
   "metadata": {},
   "source": [
    "Q7 - Create a variable df containing the country , province , region_1 , and region_2 columns of the\n",
    "records with the index labels 0 , 1 , 10 , and 100 ."
   ]
  },
  {
   "cell_type": "code",
   "execution_count": 10,
   "id": "9484da4a",
   "metadata": {},
   "outputs": [
    {
     "data": {
      "text/html": [
       "<div>\n",
       "<style scoped>\n",
       "    .dataframe tbody tr th:only-of-type {\n",
       "        vertical-align: middle;\n",
       "    }\n",
       "\n",
       "    .dataframe tbody tr th {\n",
       "        vertical-align: top;\n",
       "    }\n",
       "\n",
       "    .dataframe thead th {\n",
       "        text-align: right;\n",
       "    }\n",
       "</style>\n",
       "<table border=\"1\" class=\"dataframe\">\n",
       "  <thead>\n",
       "    <tr style=\"text-align: right;\">\n",
       "      <th></th>\n",
       "      <th>country</th>\n",
       "      <th>province</th>\n",
       "      <th>region_1</th>\n",
       "      <th>region_2</th>\n",
       "    </tr>\n",
       "  </thead>\n",
       "  <tbody>\n",
       "    <tr>\n",
       "      <th>0</th>\n",
       "      <td>Italy</td>\n",
       "      <td>Sicily &amp; Sardinia</td>\n",
       "      <td>Etna</td>\n",
       "      <td>NaN</td>\n",
       "    </tr>\n",
       "    <tr>\n",
       "      <th>1</th>\n",
       "      <td>Portugal</td>\n",
       "      <td>Douro</td>\n",
       "      <td>NaN</td>\n",
       "      <td>NaN</td>\n",
       "    </tr>\n",
       "    <tr>\n",
       "      <th>10</th>\n",
       "      <td>US</td>\n",
       "      <td>California</td>\n",
       "      <td>Napa Valley</td>\n",
       "      <td>Napa</td>\n",
       "    </tr>\n",
       "    <tr>\n",
       "      <th>100</th>\n",
       "      <td>US</td>\n",
       "      <td>New York</td>\n",
       "      <td>Finger Lakes</td>\n",
       "      <td>Finger Lakes</td>\n",
       "    </tr>\n",
       "  </tbody>\n",
       "</table>\n",
       "</div>"
      ],
      "text/plain": [
       "      country           province      region_1      region_2\n",
       "0       Italy  Sicily & Sardinia          Etna           NaN\n",
       "1    Portugal              Douro           NaN           NaN\n",
       "10         US         California   Napa Valley          Napa\n",
       "100        US           New York  Finger Lakes  Finger Lakes"
      ]
     },
     "execution_count": 10,
     "metadata": {},
     "output_type": "execute_result"
    }
   ],
   "source": [
    "df = reviews.loc[[0,1,10,100], ['country', 'province', 'region_1', 'region_2']]\n",
    "df\n"
   ]
  },
  {
   "cell_type": "markdown",
   "id": "e3d9e964",
   "metadata": {},
   "source": [
    "Q8 - Create a variable df containing the country and variety columns of the first 100 records."
   ]
  },
  {
   "cell_type": "code",
   "execution_count": 11,
   "id": "5baf096c",
   "metadata": {},
   "outputs": [
    {
     "data": {
      "text/html": [
       "<div>\n",
       "<style scoped>\n",
       "    .dataframe tbody tr th:only-of-type {\n",
       "        vertical-align: middle;\n",
       "    }\n",
       "\n",
       "    .dataframe tbody tr th {\n",
       "        vertical-align: top;\n",
       "    }\n",
       "\n",
       "    .dataframe thead th {\n",
       "        text-align: right;\n",
       "    }\n",
       "</style>\n",
       "<table border=\"1\" class=\"dataframe\">\n",
       "  <thead>\n",
       "    <tr style=\"text-align: right;\">\n",
       "      <th></th>\n",
       "      <th>country</th>\n",
       "      <th>variety</th>\n",
       "    </tr>\n",
       "  </thead>\n",
       "  <tbody>\n",
       "    <tr>\n",
       "      <th>0</th>\n",
       "      <td>Italy</td>\n",
       "      <td>White Blend</td>\n",
       "    </tr>\n",
       "    <tr>\n",
       "      <th>1</th>\n",
       "      <td>Portugal</td>\n",
       "      <td>Portuguese Red</td>\n",
       "    </tr>\n",
       "    <tr>\n",
       "      <th>2</th>\n",
       "      <td>US</td>\n",
       "      <td>Pinot Gris</td>\n",
       "    </tr>\n",
       "    <tr>\n",
       "      <th>3</th>\n",
       "      <td>US</td>\n",
       "      <td>Riesling</td>\n",
       "    </tr>\n",
       "    <tr>\n",
       "      <th>4</th>\n",
       "      <td>US</td>\n",
       "      <td>Pinot Noir</td>\n",
       "    </tr>\n",
       "    <tr>\n",
       "      <th>...</th>\n",
       "      <td>...</td>\n",
       "      <td>...</td>\n",
       "    </tr>\n",
       "    <tr>\n",
       "      <th>95</th>\n",
       "      <td>France</td>\n",
       "      <td>Gamay</td>\n",
       "    </tr>\n",
       "    <tr>\n",
       "      <th>96</th>\n",
       "      <td>France</td>\n",
       "      <td>Gamay</td>\n",
       "    </tr>\n",
       "    <tr>\n",
       "      <th>97</th>\n",
       "      <td>US</td>\n",
       "      <td>Riesling</td>\n",
       "    </tr>\n",
       "    <tr>\n",
       "      <th>98</th>\n",
       "      <td>Italy</td>\n",
       "      <td>Sangiovese</td>\n",
       "    </tr>\n",
       "    <tr>\n",
       "      <th>99</th>\n",
       "      <td>US</td>\n",
       "      <td>Bordeaux-style Red Blend</td>\n",
       "    </tr>\n",
       "  </tbody>\n",
       "</table>\n",
       "<p>100 rows × 2 columns</p>\n",
       "</div>"
      ],
      "text/plain": [
       "     country                   variety\n",
       "0      Italy               White Blend\n",
       "1   Portugal            Portuguese Red\n",
       "2         US                Pinot Gris\n",
       "3         US                  Riesling\n",
       "4         US                Pinot Noir\n",
       "..       ...                       ...\n",
       "95    France                     Gamay\n",
       "96    France                     Gamay\n",
       "97        US                  Riesling\n",
       "98     Italy                Sangiovese\n",
       "99        US  Bordeaux-style Red Blend\n",
       "\n",
       "[100 rows x 2 columns]"
      ]
     },
     "execution_count": 11,
     "metadata": {},
     "output_type": "execute_result"
    }
   ],
   "source": [
    "df = reviews.loc[0:99, ['country', 'variety']]\n",
    "df"
   ]
  },
  {
   "cell_type": "markdown",
   "id": "1d5135cc",
   "metadata": {},
   "source": [
    "Q9 - Create a DataFrame italian_wines containing reviews of wines made in Italy ."
   ]
  },
  {
   "cell_type": "code",
   "execution_count": 12,
   "id": "c0065c21",
   "metadata": {},
   "outputs": [
    {
     "name": "stdout",
     "output_type": "stream",
     "text": [
      "       country                                        description  \\\n",
      "0        Italy  Aromas include tropical fruit, broom, brimston...   \n",
      "6        Italy  Here's a bright, informal red that opens with ...   \n",
      "13       Italy  This is dominated by oak and oak-driven aromas...   \n",
      "22       Italy  Delicate aromas recall white flower and citrus...   \n",
      "24       Italy  Aromas of prune, blackcurrant, toast and oak c...   \n",
      "...        ...                                                ...   \n",
      "129929   Italy  This luminous sparkler has a sweet, fruit-forw...   \n",
      "129943   Italy  A blend of Nero d'Avola and Syrah, this convey...   \n",
      "129947   Italy  A blend of 65% Cabernet Sauvignon, 30% Merlot ...   \n",
      "129961   Italy  Intense aromas of wild cherry, baking spice, t...   \n",
      "129962   Italy  Blackberry, cassis, grilled herb and toasted a...   \n",
      "\n",
      "                      designation  points  price           province  \\\n",
      "0                    Vulkà Bianco      87    NaN  Sicily & Sardinia   \n",
      "6                         Belsito      87   16.0  Sicily & Sardinia   \n",
      "13                          Rosso      87    NaN  Sicily & Sardinia   \n",
      "22                      Ficiligno      87   19.0  Sicily & Sardinia   \n",
      "24                          Aynat      87   35.0  Sicily & Sardinia   \n",
      "...                           ...     ...    ...                ...   \n",
      "129929                        NaN      91   38.0             Veneto   \n",
      "129943                    Adènzia      90   29.0  Sicily & Sardinia   \n",
      "129947                   Symposio      90   20.0  Sicily & Sardinia   \n",
      "129961                        NaN      90   30.0  Sicily & Sardinia   \n",
      "129962  Sàgana Tenuta San Giacomo      90   40.0  Sicily & Sardinia   \n",
      "\n",
      "                              region_1 region_2    taster_name  \\\n",
      "0                                 Etna      NaN  Kerin O’Keefe   \n",
      "6                             Vittoria      NaN  Kerin O’Keefe   \n",
      "13                                Etna      NaN  Kerin O’Keefe   \n",
      "22                             Sicilia      NaN  Kerin O’Keefe   \n",
      "24                             Sicilia      NaN  Kerin O’Keefe   \n",
      "...                                ...      ...            ...   \n",
      "129929  Prosecco Superiore di Cartizze      NaN            NaN   \n",
      "129943                         Sicilia      NaN  Kerin O’Keefe   \n",
      "129947                 Terre Siciliane      NaN  Kerin O’Keefe   \n",
      "129961                         Sicilia      NaN  Kerin O’Keefe   \n",
      "129962                         Sicilia      NaN  Kerin O’Keefe   \n",
      "\n",
      "       taster_twitter_handle  \\\n",
      "0               @kerinokeefe   \n",
      "6               @kerinokeefe   \n",
      "13              @kerinokeefe   \n",
      "22              @kerinokeefe   \n",
      "24              @kerinokeefe   \n",
      "...                      ...   \n",
      "129929                   NaN   \n",
      "129943          @kerinokeefe   \n",
      "129947          @kerinokeefe   \n",
      "129961          @kerinokeefe   \n",
      "129962          @kerinokeefe   \n",
      "\n",
      "                                                    title            variety  \\\n",
      "0                       Nicosia 2013 Vulkà Bianco  (Etna)        White Blend   \n",
      "6        Terre di Giurfo 2013 Belsito Frappato (Vittoria)           Frappato   \n",
      "13                 Masseria Setteporte 2012 Rosso  (Etna)  Nerello Mascalese   \n",
      "22      Baglio di Pianetto 2007 Ficiligno White (Sicilia)        White Blend   \n",
      "24            Canicattì 2009 Aynat Nero d'Avola (Sicilia)       Nero d'Avola   \n",
      "...                                                   ...                ...   \n",
      "129929  Col Vetoraz Spumanti NV  Prosecco Superiore di...           Prosecco   \n",
      "129943  Baglio del Cristo di Campobello 2012 Adènzia R...          Red Blend   \n",
      "129947  Feudo Principi di Butera 2012 Symposio Red (Te...          Red Blend   \n",
      "129961                        COS 2013 Frappato (Sicilia)           Frappato   \n",
      "129962  Cusumano 2012 Sàgana Tenuta San Giacomo Nero d...       Nero d'Avola   \n",
      "\n",
      "                                 winery  \n",
      "0                               Nicosia  \n",
      "6                       Terre di Giurfo  \n",
      "13                  Masseria Setteporte  \n",
      "22                   Baglio di Pianetto  \n",
      "24                            Canicattì  \n",
      "...                                 ...  \n",
      "129929             Col Vetoraz Spumanti  \n",
      "129943  Baglio del Cristo di Campobello  \n",
      "129947         Feudo Principi di Butera  \n",
      "129961                              COS  \n",
      "129962                         Cusumano  \n",
      "\n",
      "[19540 rows x 13 columns]\n"
     ]
    }
   ],
   "source": [
    "italian_wines = reviews.loc[(reviews['country'] == \"Italy\")]\n",
    "print(italian_wines)"
   ]
  }
 ],
 "metadata": {
  "kernelspec": {
   "display_name": "Python 3 (ipykernel)",
   "language": "python",
   "name": "python3"
  },
  "language_info": {
   "codemirror_mode": {
    "name": "ipython",
    "version": 3
   },
   "file_extension": ".py",
   "mimetype": "text/x-python",
   "name": "python",
   "nbconvert_exporter": "python",
   "pygments_lexer": "ipython3",
   "version": "3.9.7"
  }
 },
 "nbformat": 4,
 "nbformat_minor": 5
}
